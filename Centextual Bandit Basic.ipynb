{
 "cells": [
  {
   "cell_type": "markdown",
   "id": "a51e3242-23a2-41cb-9a9d-d5afd0f2a77e",
   "metadata": {},
   "source": [
    "Setup"
   ]
  },
  {
   "cell_type": "code",
   "execution_count": 1,
   "id": "f90030c9-fdaf-4b6c-83d4-cf0e7f288724",
   "metadata": {
    "tags": []
   },
   "outputs": [],
   "source": [
    "#import required libs\n",
    "\n",
    "import numpy as np\n",
    "import pandas as pd\n",
    "from scipy.optimize import minimize\n",
    "import matplotlib.pyplot as plt\n",
    "import warnings\n",
    "\n",
    "warnings.filterwarnings('ignore')"
   ]
  },
  {
   "cell_type": "code",
   "execution_count": 2,
   "id": "2f1f8882-10ce-44cd-bc25-83c9e643957a",
   "metadata": {
    "tags": []
   },
   "outputs": [],
   "source": [
    "#Class that will generate user functions\n",
    "\n",
    "'''\n",
    "1. user is assigned set of random context value (location,device,age)\n",
    "2. user's probability of clicking on ad (y) is depende on context and they see ad[C,T]\n",
    "3. CTR is modeled as logistic function of context (diff parameters for C and T)\n",
    "'''\n",
    "\n",
    "class UserGenerator(object):\n",
    "    def __init__(self):\n",
    "        self.beta= {}\n",
    "        self.beta['C'] = np.array([-6,-0.1,1,0.1])\n",
    "        self.beta['T'] = np.array([-3.5,-0.1,-3,0.1])\n",
    "        self.context = None\n",
    "        \n",
    "    def logistic(self,beta,context):\n",
    "        f = np.dot(beta,context)\n",
    "        p = 1 / (1 + np.exp(-f))\n",
    "        return p\n",
    "    \n",
    "    def display_ad(self,ad):\n",
    "        if ad in ['C','T']:\n",
    "            p = self.logistic(self.beta[ad],self.context)\n",
    "            reward = np.random.binomial(n=1,p=p)\n",
    "            return reward\n",
    "        else:\n",
    "            raise Exeception(\"Unknown Ad! \")\n",
    "            \n",
    "    def generate_user_with_context(self):\n",
    "        location = np.random.binomial(n=1,p=0.6)\n",
    "        device = np.random.binomial(n=1,p=0.8)\n",
    "        age = 10 + int(np.random.beta(2,3) * 60)\n",
    "        self.context = [1,device,location,age]\n",
    "        return self.context\n",
    "    "
   ]
  },
  {
   "cell_type": "code",
   "execution_count": 3,
   "id": "cf33d595-422b-4710-9b28-47dfabd6956a",
   "metadata": {
    "tags": []
   },
   "outputs": [],
   "source": [
    "#define random policy for A/B testing\n",
    "#ad [C,T] selected randomly with probabilities p\n",
    "\n",
    "def ab_policy(arms,slate_size=1,p=[0.6,0.4]):\n",
    "    recs = np.random.choice(arms,size=(slate_size),replace=False,p=p)\n",
    "    return recs"
   ]
  },
  {
   "cell_type": "code",
   "execution_count": 31,
   "id": "6c401ef6-8e7c-410f-9e83-e084dc9c306b",
   "metadata": {
    "tags": []
   },
   "outputs": [],
   "source": [
    "#define e-greedy policy for MAB\n",
    "def mab_policy(df,arms,epsilon=0.15,slate_size=1):\n",
    "    explore = np.random.binomial(1,epsilon)\n",
    "    \n",
    "    if explore == 1 or df.shape[0] == 0:\n",
    "        recs = np.random.choice(arms,size=(slate_size),replace=False)\n",
    "    else:\n",
    "        scores = df[['d','y']].groupby('d').agg({'y' : ['mean','count']})\n",
    "        scores.columns = ['mean','count']\n",
    "        scores['d'] = scores.index\n",
    "        scores = scores.sort_values('mean',ascending=False)\n",
    "        recs = scores.loc[scores.index[0:slate_size],'d'].values\n",
    "    return recs\n",
    "        "
   ]
  },
  {
   "cell_type": "markdown",
   "id": "87f35d6f-41d9-4499-8206-3914f3d7b1ed",
   "metadata": {},
   "source": [
    "Contextual Bandit "
   ]
  },
  {
   "cell_type": "code",
   "execution_count": 37,
   "id": "603420a8-d8ec-49ef-960a-f656435a938b",
   "metadata": {
    "tags": []
   },
   "outputs": [],
   "source": [
    "class RegularizedLR(object):\n",
    "    def __init__(self,name,alpha,rlambda,n_dim):\n",
    "        self.name = name\n",
    "        self.alpha = alpha\n",
    "        self.rlambda = rlambda\n",
    "        self.n_dim = n_dim\n",
    "        self.m = np.zeros(n_dim)\n",
    "        self.q = np.ones(n_dim) * rlambda\n",
    "        self.w = self.get_sampled_weights()\n",
    "        \n",
    "    def get_sampled_weights(self):\n",
    "        w = np.random.normal(self.m,self.alpha*self.q**(-1/2))\n",
    "        return w\n",
    "    \n",
    "    def loss(self,w,*args):\n",
    "        X,y = args\n",
    "        n = len(y)\n",
    "        regularizer = 0.5 * np.dot(self.q,(w-self.m)**2)\n",
    "        pred_loss = sum([np.log(1 + np.exp(np.dot(w,X[j]))) - y[j] * np.dot(w,X[j]) for j in range(n)])\n",
    "        \n",
    "        return regularizer + pred_loss\n",
    "    \n",
    "    def fit(self,X,y):\n",
    "        if y:\n",
    "            X = np.array(X)\n",
    "            y = np.array(y)\n",
    "            \n",
    "            minimization = minimize(self.loss,self.w,args=(X,y),method=\"L-BFGS-B\",bounds=[(-10,10)]*3 + [(-1,1)],\n",
    "                                   options = {'maxiter' : 50})\n",
    "            \n",
    "            self.w = minimization.x\n",
    "            self.m = self.w\n",
    "            p = (1 + np.exp(-np.matmul(self.w,X.T)))**(-1)\n",
    "            self.q = self.q + np.matmul(p * (1-p), X**2)\n",
    "            \n",
    "    def calc_sigmoid(self,w,context):\n",
    "        return 1/(1+np.exp(-np.dot(w,context)))\n",
    "    def get_prediction(self,context):\n",
    "        return self.calc_sigmoid(self.m,context)\n",
    "    \n",
    "    def sample_prediction(self,context):\n",
    "        w = self.get_sampled_weights()\n",
    "        return self.calc_sigmoid(w,context)\n",
    "    \n",
    "    def get_ucb(self,context):\n",
    "        pred = self.calc_sigmoid(self.m,context)\n",
    "        confidence = self.alpha * np.sqrt(np.sum(np.divide(np.array(context)**2,self.q)))\n",
    "        ucb = pred + confidence\n",
    "        return ucb\n",
    "        "
   ]
  },
  {
   "cell_type": "code",
   "execution_count": 44,
   "id": "c8006841-7a07-466e-808d-4a63ad1c4444",
   "metadata": {
    "tags": []
   },
   "outputs": [],
   "source": [
    "def cb_policy_egreedy(ad_models,context,eps):\n",
    "    if np.random.uniform() < eps:\n",
    "        return np.random.choice(list(ad_models.keys()))\n",
    "    \n",
    "    else:\n",
    "        predictions = {ad: ad_models[ad].get_prediction(context) for ad in ad_models}\n",
    "        max_value = max(predictions.values())\n",
    "        max_keys = [key for key,value in predictions.items() if value == max_value]\n",
    "        return np.random.choice(max_keys)"
   ]
  },
  {
   "cell_type": "code",
   "execution_count": 4,
   "id": "96d607ec-384f-438c-9f6f-42dbe78b54f8",
   "metadata": {
    "tags": []
   },
   "outputs": [],
   "source": [
    "def score(history,df,t,batch_size,recs):\n",
    "    actions = df[t:t+batch_size]\n",
    "    actions = actions.loc[actions['d'].isin(recs)]\n",
    "    actions['scoring_round'] = t\n",
    "    history = pd.concat([history,pd.DataFrame(actions)])\n",
    "    action_liked = actions[['d','y']]\n",
    "    return history, action_liked"
   ]
  },
  {
   "cell_type": "markdown",
   "id": "610071d2-b4f2-45ae-a5be-0a5acd466716",
   "metadata": {},
   "source": [
    "Simulate logged data"
   ]
  },
  {
   "cell_type": "code",
   "execution_count": 5,
   "id": "fa93b2bc-43f8-4b33-a28d-bfbe5e65419f",
   "metadata": {
    "tags": []
   },
   "outputs": [],
   "source": [
    "#simulate 100k users that receive ad T with probability 0.75\n",
    "\n",
    "num_samples = 100000\n",
    "prob_treated = 0.75"
   ]
  },
  {
   "cell_type": "code",
   "execution_count": 8,
   "id": "e85b10c6-ba21-44ee-9d07-25eb8a648e94",
   "metadata": {
    "tags": []
   },
   "outputs": [
    {
     "name": "stdout",
     "output_type": "stream",
     "text": [
      "(100000, 6)\n"
     ]
    },
    {
     "data": {
      "text/html": [
       "<div>\n",
       "<style scoped>\n",
       "    .dataframe tbody tr th:only-of-type {\n",
       "        vertical-align: middle;\n",
       "    }\n",
       "\n",
       "    .dataframe tbody tr th {\n",
       "        vertical-align: top;\n",
       "    }\n",
       "\n",
       "    .dataframe thead th {\n",
       "        text-align: right;\n",
       "    }\n",
       "</style>\n",
       "<table border=\"1\" class=\"dataframe\">\n",
       "  <thead>\n",
       "    <tr style=\"text-align: right;\">\n",
       "      <th></th>\n",
       "      <th>d</th>\n",
       "      <th>y</th>\n",
       "      <th>bias_term</th>\n",
       "      <th>location</th>\n",
       "      <th>device</th>\n",
       "      <th>age</th>\n",
       "    </tr>\n",
       "  </thead>\n",
       "  <tbody>\n",
       "    <tr>\n",
       "      <th>0</th>\n",
       "      <td>NaN</td>\n",
       "      <td>NaN</td>\n",
       "      <td>NaN</td>\n",
       "      <td>NaN</td>\n",
       "      <td>NaN</td>\n",
       "      <td>NaN</td>\n",
       "    </tr>\n",
       "    <tr>\n",
       "      <th>1</th>\n",
       "      <td>NaN</td>\n",
       "      <td>NaN</td>\n",
       "      <td>NaN</td>\n",
       "      <td>NaN</td>\n",
       "      <td>NaN</td>\n",
       "      <td>NaN</td>\n",
       "    </tr>\n",
       "    <tr>\n",
       "      <th>2</th>\n",
       "      <td>NaN</td>\n",
       "      <td>NaN</td>\n",
       "      <td>NaN</td>\n",
       "      <td>NaN</td>\n",
       "      <td>NaN</td>\n",
       "      <td>NaN</td>\n",
       "    </tr>\n",
       "    <tr>\n",
       "      <th>3</th>\n",
       "      <td>NaN</td>\n",
       "      <td>NaN</td>\n",
       "      <td>NaN</td>\n",
       "      <td>NaN</td>\n",
       "      <td>NaN</td>\n",
       "      <td>NaN</td>\n",
       "    </tr>\n",
       "    <tr>\n",
       "      <th>4</th>\n",
       "      <td>NaN</td>\n",
       "      <td>NaN</td>\n",
       "      <td>NaN</td>\n",
       "      <td>NaN</td>\n",
       "      <td>NaN</td>\n",
       "      <td>NaN</td>\n",
       "    </tr>\n",
       "  </tbody>\n",
       "</table>\n",
       "</div>"
      ],
      "text/plain": [
       "    d   y  bias_term  location  device  age\n",
       "0 NaN NaN        NaN       NaN     NaN  NaN\n",
       "1 NaN NaN        NaN       NaN     NaN  NaN\n",
       "2 NaN NaN        NaN       NaN     NaN  NaN\n",
       "3 NaN NaN        NaN       NaN     NaN  NaN\n",
       "4 NaN NaN        NaN       NaN     NaN  NaN"
      ]
     },
     "execution_count": 8,
     "metadata": {},
     "output_type": "execute_result"
    }
   ],
   "source": [
    "# initialize the dataframe\n",
    "\n",
    "df = pd.DataFrame(np.nan,index=range(0,num_samples),columns = ['d','y','bias_term','location','device','age'])\n",
    "#here index is user_id, d is arm aka action taken \"which item was recommended or chosen\" and y is \"CTR aka click (1) or no click(0)\" \n",
    "\n",
    "print(df.shape)\n",
    "df.head()"
   ]
  },
  {
   "cell_type": "code",
   "execution_count": 9,
   "id": "3dc8ac75-4606-43dc-944e-9c81d1a196f1",
   "metadata": {
    "tags": []
   },
   "outputs": [
    {
     "name": "stdout",
     "output_type": "stream",
     "text": [
      "(100000, 7)\n"
     ]
    },
    {
     "data": {
      "text/html": [
       "<div>\n",
       "<style scoped>\n",
       "    .dataframe tbody tr th:only-of-type {\n",
       "        vertical-align: middle;\n",
       "    }\n",
       "\n",
       "    .dataframe tbody tr th {\n",
       "        vertical-align: top;\n",
       "    }\n",
       "\n",
       "    .dataframe thead th {\n",
       "        text-align: right;\n",
       "    }\n",
       "</style>\n",
       "<table border=\"1\" class=\"dataframe\">\n",
       "  <thead>\n",
       "    <tr style=\"text-align: right;\">\n",
       "      <th></th>\n",
       "      <th>d</th>\n",
       "      <th>y</th>\n",
       "      <th>bias_term</th>\n",
       "      <th>location</th>\n",
       "      <th>device</th>\n",
       "      <th>age</th>\n",
       "      <th>t</th>\n",
       "    </tr>\n",
       "  </thead>\n",
       "  <tbody>\n",
       "    <tr>\n",
       "      <th>0</th>\n",
       "      <td>0.0</td>\n",
       "      <td>0.0</td>\n",
       "      <td>1.0</td>\n",
       "      <td>1.0</td>\n",
       "      <td>0.0</td>\n",
       "      <td>12.0</td>\n",
       "      <td>0</td>\n",
       "    </tr>\n",
       "    <tr>\n",
       "      <th>1</th>\n",
       "      <td>1.0</td>\n",
       "      <td>0.0</td>\n",
       "      <td>1.0</td>\n",
       "      <td>1.0</td>\n",
       "      <td>1.0</td>\n",
       "      <td>24.0</td>\n",
       "      <td>1</td>\n",
       "    </tr>\n",
       "    <tr>\n",
       "      <th>2</th>\n",
       "      <td>0.0</td>\n",
       "      <td>0.0</td>\n",
       "      <td>1.0</td>\n",
       "      <td>0.0</td>\n",
       "      <td>0.0</td>\n",
       "      <td>26.0</td>\n",
       "      <td>2</td>\n",
       "    </tr>\n",
       "    <tr>\n",
       "      <th>3</th>\n",
       "      <td>0.0</td>\n",
       "      <td>1.0</td>\n",
       "      <td>1.0</td>\n",
       "      <td>1.0</td>\n",
       "      <td>1.0</td>\n",
       "      <td>53.0</td>\n",
       "      <td>3</td>\n",
       "    </tr>\n",
       "    <tr>\n",
       "      <th>4</th>\n",
       "      <td>0.0</td>\n",
       "      <td>0.0</td>\n",
       "      <td>1.0</td>\n",
       "      <td>1.0</td>\n",
       "      <td>0.0</td>\n",
       "      <td>30.0</td>\n",
       "      <td>4</td>\n",
       "    </tr>\n",
       "  </tbody>\n",
       "</table>\n",
       "</div>"
      ],
      "text/plain": [
       "     d    y  bias_term  location  device   age  t\n",
       "0  0.0  0.0        1.0       1.0     0.0  12.0  0\n",
       "1  1.0  0.0        1.0       1.0     1.0  24.0  1\n",
       "2  0.0  0.0        1.0       0.0     0.0  26.0  2\n",
       "3  0.0  1.0        1.0       1.0     1.0  53.0  3\n",
       "4  0.0  0.0        1.0       1.0     0.0  30.0  4"
      ]
     },
     "execution_count": 9,
     "metadata": {},
     "output_type": "execute_result"
    }
   ],
   "source": [
    "#generate the users\n",
    "\n",
    "ug = UserGenerator()\n",
    "\n",
    "for i in range(0,num_samples):\n",
    "    context = ug.generate_user_with_context()\n",
    "    d = np.random.binomial(1,prob_treated)\n",
    "    if d == 0:\n",
    "        y = ug.display_ad('C')\n",
    "    else:\n",
    "        y = ug.display_ad('T')\n",
    "    df.loc[i] = [d,y] + context\n",
    "    \n",
    "df['t'] = range(0,df.shape[0])\n",
    "print(df.shape)\n",
    "df.head()"
   ]
  },
  {
   "cell_type": "code",
   "execution_count": 14,
   "id": "89becd71-7c3b-41f9-a41b-4062b85a5ffb",
   "metadata": {
    "tags": []
   },
   "outputs": [
    {
     "name": "stdout",
     "output_type": "stream",
     "text": [
      "0.75327\n",
      "d\n",
      "0.0    0.162769\n",
      "1.0    0.219735\n",
      "Name: y, dtype: float64\n"
     ]
    }
   ],
   "source": [
    "#calculate fraction of users that receives T (should be approx 75%)\n",
    "#and average y values by C and T (T should be higher by 6%)\n",
    "\n",
    "print(df.d.mean())\n",
    "print(df.groupby('d').mean()['y'])"
   ]
  },
  {
   "cell_type": "code",
   "execution_count": 16,
   "id": "8944882f-5fb1-45f5-93df-fd9b1638485c",
   "metadata": {
    "tags": []
   },
   "outputs": [
    {
     "name": "stdout",
     "output_type": "stream",
     "text": [
      "(100000, 7)\n"
     ]
    },
    {
     "data": {
      "text/html": [
       "<div>\n",
       "<style scoped>\n",
       "    .dataframe tbody tr th:only-of-type {\n",
       "        vertical-align: middle;\n",
       "    }\n",
       "\n",
       "    .dataframe tbody tr th {\n",
       "        vertical-align: top;\n",
       "    }\n",
       "\n",
       "    .dataframe thead th {\n",
       "        text-align: right;\n",
       "    }\n",
       "</style>\n",
       "<table border=\"1\" class=\"dataframe\">\n",
       "  <thead>\n",
       "    <tr style=\"text-align: right;\">\n",
       "      <th></th>\n",
       "      <th>d</th>\n",
       "      <th>y</th>\n",
       "      <th>bias_term</th>\n",
       "      <th>location</th>\n",
       "      <th>device</th>\n",
       "      <th>age</th>\n",
       "      <th>t</th>\n",
       "    </tr>\n",
       "  </thead>\n",
       "  <tbody>\n",
       "    <tr>\n",
       "      <th>0</th>\n",
       "      <td>1.0</td>\n",
       "      <td>1.0</td>\n",
       "      <td>1.0</td>\n",
       "      <td>1.0</td>\n",
       "      <td>0.0</td>\n",
       "      <td>20.0</td>\n",
       "      <td>0</td>\n",
       "    </tr>\n",
       "    <tr>\n",
       "      <th>1</th>\n",
       "      <td>0.0</td>\n",
       "      <td>0.0</td>\n",
       "      <td>1.0</td>\n",
       "      <td>0.0</td>\n",
       "      <td>1.0</td>\n",
       "      <td>32.0</td>\n",
       "      <td>1</td>\n",
       "    </tr>\n",
       "    <tr>\n",
       "      <th>2</th>\n",
       "      <td>0.0</td>\n",
       "      <td>0.0</td>\n",
       "      <td>1.0</td>\n",
       "      <td>0.0</td>\n",
       "      <td>1.0</td>\n",
       "      <td>12.0</td>\n",
       "      <td>2</td>\n",
       "    </tr>\n",
       "    <tr>\n",
       "      <th>3</th>\n",
       "      <td>0.0</td>\n",
       "      <td>0.0</td>\n",
       "      <td>1.0</td>\n",
       "      <td>1.0</td>\n",
       "      <td>1.0</td>\n",
       "      <td>37.0</td>\n",
       "      <td>3</td>\n",
       "    </tr>\n",
       "    <tr>\n",
       "      <th>4</th>\n",
       "      <td>1.0</td>\n",
       "      <td>0.0</td>\n",
       "      <td>1.0</td>\n",
       "      <td>1.0</td>\n",
       "      <td>1.0</td>\n",
       "      <td>18.0</td>\n",
       "      <td>4</td>\n",
       "    </tr>\n",
       "  </tbody>\n",
       "</table>\n",
       "</div>"
      ],
      "text/plain": [
       "     d    y  bias_term  location  device   age  t\n",
       "0  1.0  1.0        1.0       1.0     0.0  20.0  0\n",
       "1  0.0  0.0        1.0       0.0     1.0  32.0  1\n",
       "2  0.0  0.0        1.0       0.0     1.0  12.0  2\n",
       "3  0.0  0.0        1.0       1.0     1.0  37.0  3\n",
       "4  1.0  0.0        1.0       1.0     1.0  18.0  4"
      ]
     },
     "execution_count": 16,
     "metadata": {},
     "output_type": "execute_result"
    }
   ],
   "source": [
    "#upsample C and downsample T to balance dataset with 50/50 % of C and T ad.\n",
    "\n",
    "df0 = df[df.d==0].sample(50000,replace=True)\n",
    "df1 = df[df.d==1].sample(50000,replace=True)\n",
    "\n",
    "df = pd.concat([df0,df1],ignore_index=True)\n",
    "\n",
    "df.drop(columns=['t'])\n",
    "\n",
    "df = df.sample(frac=1).reset_index(drop=True)\n",
    "df['t'] = range(0,df.shape[0])\n",
    "\n",
    "print(df.shape)\n",
    "df.head()"
   ]
  },
  {
   "cell_type": "code",
   "execution_count": 18,
   "id": "d234cc6d-74d1-4c29-b8ac-48e3d1932c78",
   "metadata": {
    "tags": []
   },
   "outputs": [
    {
     "name": "stdout",
     "output_type": "stream",
     "text": [
      "0.5\n",
      "\n",
      "d\n",
      "0.0    0.16764\n",
      "1.0    0.22056\n",
      "Name: y, dtype: float64\n"
     ]
    }
   ],
   "source": [
    "print(df.d.mean())\n",
    "print()\n",
    "print(df.groupby('d').mean()['y'])"
   ]
  },
  {
   "cell_type": "markdown",
   "id": "bc3fe2a8-2ef9-4a72-8e75-01d42857e47e",
   "metadata": {},
   "source": [
    "Calculate Cumulative Reward for A/B Testing"
   ]
  },
  {
   "cell_type": "code",
   "execution_count": 21,
   "id": "d2a33570-6f2a-4e5e-9cb2-1a81c343a9c3",
   "metadata": {
    "tags": []
   },
   "outputs": [
    {
     "name": "stdout",
     "output_type": "stream",
     "text": [
      "49830\n"
     ]
    },
    {
     "data": {
      "text/plain": [
       "[0.0, 0.0, 0.0, 0.0, 1.0, 0.0, 0.0, 0.0, 0.0, 0.0]"
      ]
     },
     "execution_count": 21,
     "metadata": {},
     "output_type": "execute_result"
    }
   ],
   "source": [
    "history = pd.DataFrame(data=None,columns=df.columns)\n",
    "\n",
    "rewards = []\n",
    "max_time = df.shape[0]\n",
    "batch_size=100\n",
    "n=1\n",
    "\n",
    "for t in range(max_time//batch_size):\n",
    "    t = t * batch_size\n",
    "    recs = ab_policy(arms=df.d.unique(),slate_size=n,p=[0.6,0.4])\n",
    "    history, action_score = score(history,df,t,batch_size,recs)\n",
    "    if action_score is not None:\n",
    "        action_score = action_score.y.tolist()\n",
    "        rewards.extend(action_score)\n",
    "\n",
    "rewards_ab = rewards\n",
    "history_ab = history\n",
    "print(len(rewards_ab))\n",
    "rewards_ab[:10]"
   ]
  },
  {
   "cell_type": "code",
   "execution_count": 22,
   "id": "fbecbc5c-1192-44d6-8382-e77f32ba43f9",
   "metadata": {
    "tags": []
   },
   "outputs": [
    {
     "name": "stdout",
     "output_type": "stream",
     "text": [
      "49830\n"
     ]
    },
    {
     "data": {
      "text/plain": [
       "array([0., 0., 0., 0., 1., 1., 1., 1., 1., 1.])"
      ]
     },
     "execution_count": 22,
     "metadata": {},
     "output_type": "execute_result"
    }
   ],
   "source": [
    "cumulative_ab = np.cumsum(rewards_ab)\n",
    "\n",
    "print(len(cumulative_ab))\n",
    "cumulative_ab[:10]"
   ]
  },
  {
   "cell_type": "markdown",
   "id": "4f2c120e-265a-4b41-a604-ecec145ee0c0",
   "metadata": {
    "tags": []
   },
   "source": [
    "Calculate Cumulative reward for MAB"
   ]
  },
  {
   "cell_type": "code",
   "execution_count": 32,
   "id": "531fb684-0f08-4458-8830-475edf08fe6e",
   "metadata": {
    "tags": []
   },
   "outputs": [
    {
     "name": "stdout",
     "output_type": "stream",
     "text": [
      "50100\n"
     ]
    },
    {
     "data": {
      "text/plain": [
       "[1.0, 0.0, 0.0, 0.0, 1.0, 0.0, 0.0, 0.0, 0.0, 0.0]"
      ]
     },
     "execution_count": 32,
     "metadata": {},
     "output_type": "execute_result"
    }
   ],
   "source": [
    "history = pd.DataFrame(data=None,columns=df.columns)\n",
    "\n",
    "rewards = []\n",
    "max_time = df.shape[0]\n",
    "batch_size=100\n",
    "epsilon = 0.15\n",
    "n = 1\n",
    "\n",
    "for t in range(max_time//batch_size):\n",
    "    t=t*batch_size\n",
    "    recs = mab_policy(df = history.loc[history.t<=t,],arms = df.d.unique(),epsilon=epsilon,slate_size=n)\n",
    "    history,action_score  = score(history,df,t,batch_size,recs)\n",
    "    if action_score is not None:\n",
    "        action_score = action_score.y.tolist()\n",
    "        rewards.extend(action_score)\n",
    "\n",
    "rewards_mab = rewards\n",
    "history_mab = history\n",
    "\n",
    "print(len(rewards_mab))\n",
    "rewards_mab[0:10]"
   ]
  },
  {
   "cell_type": "code",
   "execution_count": 33,
   "id": "c7336969-20aa-429f-9ba9-60a150c92e3c",
   "metadata": {
    "tags": []
   },
   "outputs": [
    {
     "name": "stdout",
     "output_type": "stream",
     "text": [
      "50100\n"
     ]
    },
    {
     "data": {
      "text/plain": [
       "array([1., 1., 1., 1., 2., 2., 2., 2., 2., 2.])"
      ]
     },
     "execution_count": 33,
     "metadata": {},
     "output_type": "execute_result"
    }
   ],
   "source": [
    "cumulative_mab = np.cumsum(rewards_mab)\n",
    "\n",
    "print(len(cumulative_mab))\n",
    "cumulative_mab[:10]"
   ]
  },
  {
   "cell_type": "markdown",
   "id": "6dbed1a8-8ce2-4dcd-9e5c-2c5b4d2d4895",
   "metadata": {},
   "source": [
    "Calculate Cumulative reward for Contextual Bandit"
   ]
  },
  {
   "cell_type": "code",
   "execution_count": 46,
   "id": "7b26406c-fd76-44b4-b8f8-4086d991b271",
   "metadata": {
    "tags": []
   },
   "outputs": [
    {
     "name": "stdout",
     "output_type": "stream",
     "text": [
      "Updating the models at t:  10000\n",
      "Updating the models at t:  20000\n",
      "Updating the models at t:  30000\n",
      "Updating the models at t:  40000\n",
      "Updating the models at t:  50000\n",
      "Updating the models at t:  60000\n",
      "Updating the models at t:  70000\n",
      "Updating the models at t:  80000\n",
      "Updating the models at t:  90000\n",
      "Updating the models at t:  100000\n",
      "\n",
      "49971\n"
     ]
    },
    {
     "data": {
      "text/plain": [
       "[0.0, 0.0, 0.0, 0.0, 0.0, 0.0, 0.0, 0.0, 0.0, 0.0]"
      ]
     },
     "execution_count": 46,
     "metadata": {},
     "output_type": "execute_result"
    }
   ],
   "source": [
    "history = pd.DataFrame(data=None,columns=df.columns)\n",
    "\n",
    "rewards = []\n",
    "max_time = df.shape[0]\n",
    "batch_size = 10000\n",
    "eps = 0.15\n",
    "\n",
    "ad_options = ['C','T']\n",
    "alpha, rlambda,n_dim = 0.5,0.5,4\n",
    "ad_models = {ad: RegularizedLR(ad,alpha,rlambda,n_dim) for ad in 'CT'}\n",
    "\n",
    "X = {ad: [] for ad in ad_options}\n",
    "y = {ad: [] for ad in ad_options}\n",
    "\n",
    "for t in range(max_time):\n",
    "    context = list(df.iloc[t][['bias_term','location','device','age']])\n",
    "    \n",
    "    ad = cb_policy_egreedy(ad_models,context,eps)\n",
    "    \n",
    "    if (ad == 'C' and df.iloc[t]['d'] == 0) or (ad == 'T' and df.iloc[t]['d'] == 1):\n",
    "        click = df.iloc[t]['y']\n",
    "        actions = df[t:t+1]\n",
    "        actions['scoring_round'] = t\n",
    "        history = pd.concat([history,pd.DataFrame(actions)])\n",
    "        action_score = actions[['d','y']]\n",
    "        action_score = action_score.y.tolist()\n",
    "        rewards.extend(action_score)\n",
    "        \n",
    "        X[ad].append(context)\n",
    "        y[ad].append(click)\n",
    "        \n",
    "    if (t+1) % batch_size == 0:\n",
    "        print(\"Updating the models at t: \", t+1)\n",
    "        for ad in ad_options:\n",
    "            ad_models[ad].fit(X[ad],y[ad])\n",
    "        \n",
    "        X = {ad :[] for ad in ad_options}\n",
    "        y = {ad :[] for ad in ad_options}\n",
    "        \n",
    "rewards_cb = rewards\n",
    "history_cb = history\n",
    "\n",
    "print()\n",
    "print(len(rewards_cb))\n",
    "rewards_cb[:10]\n"
   ]
  },
  {
   "cell_type": "code",
   "execution_count": 47,
   "id": "f7217039-8dbc-4960-a0d9-ad54d558f543",
   "metadata": {
    "tags": []
   },
   "outputs": [
    {
     "name": "stdout",
     "output_type": "stream",
     "text": [
      "49971\n"
     ]
    },
    {
     "data": {
      "text/plain": [
       "array([0., 0., 0., 0., 0., 0., 0., 0., 0., 0.])"
      ]
     },
     "execution_count": 47,
     "metadata": {},
     "output_type": "execute_result"
    }
   ],
   "source": [
    "cumulative_cb = np.cumsum(rewards_cb)\n",
    "\n",
    "print(len(cumulative_cb))\n",
    "\n",
    "cumulative_cb[:10]"
   ]
  },
  {
   "cell_type": "code",
   "execution_count": 48,
   "id": "0ec3b6cc-7f8b-4af4-ac10-0d3f257b76b4",
   "metadata": {
    "tags": []
   },
   "outputs": [
    {
     "data": {
      "image/png": "[encoded data removed]",
      "text/plain": [
       "<Figure size 640x480 with 1 Axes>"
      ]
     },
     "metadata": {},
     "output_type": "display_data"
    }
   ],
   "source": [
    "plt.plot(cumulative_ab, label='ab')\n",
    "plt.plot(cumulative_mab, label='mab')\n",
    "plt.plot(cumulative_cb, label='cb')\n",
    "\n",
    "plt.xlabel(\"Replay step\")\n",
    "plt.ylabel(\"Cumulative reward\")\n",
    "\n",
    "plt.legend()\n",
    "\n",
    "plt.savefig('ab_vs_mab_vs_cb.png')"
   ]
  },
  {
   "cell_type": "code",
   "execution_count": 49,
   "id": "fbe92549-27ca-404d-a4c3-c6313cd29966",
   "metadata": {
    "tags": []
   },
   "outputs": [
    {
     "name": "stdout",
     "output_type": "stream",
     "text": [
      "3024.0\n",
      "3925.0\n",
      "901.0\n"
     ]
    }
   ],
   "source": [
    "print(cumulative_cb[-1] - cumulative_mab[-1])\n",
    "print(cumulative_cb[-1] - cumulative_ab[-1])\n",
    "print(cumulative_mab[-1] - cumulative_ab[-1])"
   ]
  },
  {
   "cell_type": "markdown",
   "id": "457e7eab-9326-4fc9-97d6-3c066fa8ac85",
   "metadata": {},
   "source": [
    "Reference\n",
    "Many parts of the code in this notebook are copied from the following scripts and modified as needed to adapt to the example being demonstrated here:\n",
    "\n",
    "https://github.com/PacktPublishing/Mastering-Reinforcement-Learning-with-Python/blob/master/Chapter03/Contextual%20Bandits.ipynb\n",
    "https://github.com/jldbc/bandits/tree/master/bandits\n",
    "The repositories where these code snippets originally appeared in have the following LICENSE notices.\n",
    "\n",
    "MIT License\n",
    "\n",
    "Copyright (c) 2020 Packt\n",
    "\n",
    "Permission is hereby granted, free of charge, to any person obtaining a copy of this software and associated documentation files (the \"Software\"), to deal in the Software without restriction, including without limitation the rights to use, copy, modify, merge, publish, distribute, sublicense, and/or sell copies of the Software, and to permit persons to whom the Software is furnished to do so, subject to the following conditions:\n",
    "\n",
    "The above copyright notice and this permission notice shall be included in all copies or substantial portions of the Software.\n",
    "\n",
    "THE SOFTWARE IS PROVIDED \"AS IS\", WITHOUT WARRANTY OF ANY KIND, EXPRESS OR IMPLIED, INCLUDING BUT NOT LIMITED TO THE WARRANTIES OF MERCHANTABILITY, FITNESS FOR A PARTICULAR PURPOSE AND NONINFRINGEMENT. IN NO EVENT SHALL THE AUTHORS OR COPYRIGHT HOLDERS BE LIABLE FOR ANY CLAIM, DAMAGES OR OTHER LIABILITY, WHETHER IN AN ACTION OF CONTRACT, TORT OR OTHERWISE, ARISING FROM, OUT OF OR IN CONNECTION WITH THE SOFTWARE OR THE USE OR OTHER DEALINGS IN THE SOFTWARE.\n",
    "\n",
    "MIT License\n",
    "\n",
    "Copyright (c) 2019 James LeDoux\n",
    "\n",
    "Permission is hereby granted, free of charge, to any person obtaining a copy of this software and associated documentation files (the \"Software\"), to deal in the Software without restriction, including without limitation the rights to use, copy, modify, merge, publish, distribute, sublicense, and/or sell copies of the Software, and to permit persons to whom the Software is furnished to do so, subject to the following conditions:\n",
    "\n",
    "The above copyright notice and this permission notice shall be included in all copies or substantial portions of the Software.\n",
    "\n",
    "THE SOFTWARE IS PROVIDED \"AS IS\", WITHOUT WARRANTY OF ANY KIND, EXPRESS OR IMPLIED, INCLUDING BUT NOT LIMITED TO THE WARRANTIES OF MERCHANTABILITY, FITNESS FOR A PARTICULAR PURPOSE AND NONINFRINGEMENT. IN NO EVENT SHALL THE AUTHORS OR COPYRIGHT HOLDERS BE LIABLE FOR ANY CLAIM, DAMAGES OR OTHER LIABILITY, WHETHER IN AN ACTION OF CONTRACT, TORT OR OTHERWISE, ARISING FROM, OUT OF OR IN CONNECTION WITH THE SOFTWARE OR THE USE OR OTHER DEALINGS IN THE SOFTWARE."
   ]
  }
 ],
 "metadata": {
  "environment": {
   "kernel": "conda-base-py",
   "name": "workbench-notebooks.m128",
   "type": "gcloud",
   "uri": "us-docker.pkg.dev/deeplearning-platform-release/gcr.io/workbench-notebooks:m128"
  },
  "kernelspec": {
   "display_name": "Python 3 (ipykernel) (Local)",
   "language": "python",
   "name": "conda-base-py"
  },
  "language_info": {
   "codemirror_mode": {
    "name": "ipython",
    "version": 3
   },
   "file_extension": ".py",
   "mimetype": "text/x-python",
   "name": "python",
   "nbconvert_exporter": "python",
   "pygments_lexer": "ipython3",
   "version": "3.10.16"
  }
 },
 "nbformat": 4,
 "nbformat_minor": 5
}
