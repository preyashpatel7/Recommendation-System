{
 "cells": [
  {
   "cell_type": "code",
   "execution_count": null,
   "id": "58935415-821b-4a54-9c6b-d01c73d2beb0",
   "metadata": {},
   "outputs": [],
   "source": [
    "#plan\n",
    "\n",
    "'''\n",
    "1. Install dependancies\n",
    "2. get data from bq. \n",
    "3. Create two tower model.\n",
    "4. deploy query model to endpoint\n",
    "5. upload candidate model for batch prediction with change signature that output id,encoding format.\n",
    "6. do batch prediction and get all embeddings for candidate and tranform that compatible with matching engine format id, embedding.\n",
    "7.save it to GCS in json format.\n",
    "8. create and deploy vertex ai index endpoint.\n",
    "9. get the user_id embedding using deployed query endpoint.\n",
    "10. feed it to index endpoint to get recommendations. \n",
    "'''"
   ]
  },
  {
   "cell_type": "code",
   "execution_count": 2,
   "id": "938bfecf-1c12-41e6-91ab-bf39672fe43a",
   "metadata": {
    "tags": []
   },
   "outputs": [
    {
     "name": "stdout",
     "output_type": "stream",
     "text": [
      "Updated property [core/project].\n"
     ]
    }
   ],
   "source": [
    "PROJECT_ID = \"tokyo-country-452614-f7\"\n",
    "\n",
    "!gcloud config set project {PROJECT_ID}"
   ]
  },
  {
   "cell_type": "code",
   "execution_count": 3,
   "id": "52464e2a-bcb9-4a4d-bea6-35c0e4081497",
   "metadata": {
    "tags": []
   },
   "outputs": [
    {
     "name": "stderr",
     "output_type": "stream",
     "text": [
      "2025-03-31 11:35:35.986584: I external/local_tsl/tsl/cuda/cudart_stub.cc:31] Could not find cuda drivers on your machine, GPU will not be used.\n",
      "2025-03-31 11:35:36.733689: E external/local_xla/xla/stream_executor/cuda/cuda_dnn.cc:9261] Unable to register cuDNN factory: Attempting to register factory for plugin cuDNN when one has already been registered\n",
      "2025-03-31 11:35:36.733802: E external/local_xla/xla/stream_executor/cuda/cuda_fft.cc:607] Unable to register cuFFT factory: Attempting to register factory for plugin cuFFT when one has already been registered\n",
      "2025-03-31 11:35:36.891477: E external/local_xla/xla/stream_executor/cuda/cuda_blas.cc:1515] Unable to register cuBLAS factory: Attempting to register factory for plugin cuBLAS when one has already been registered\n",
      "2025-03-31 11:35:37.212253: I external/local_tsl/tsl/cuda/cudart_stub.cc:31] Could not find cuda drivers on your machine, GPU will not be used.\n",
      "2025-03-31 11:35:37.217373: I tensorflow/core/platform/cpu_feature_guard.cc:182] This TensorFlow binary is optimized to use available CPU instructions in performance-critical operations.\n",
      "To enable the following instructions: AVX2 FMA, in other operations, rebuild TensorFlow with the appropriate compiler flags.\n"
     ]
    }
   ],
   "source": [
    "from google.cloud import aiplatform\n",
    "import tensorflow as tf\n",
    "import pandas as pd\n",
    "import numpy as np\n",
    "import tensorflow_recommenders as tfrs\n",
    "from google.cloud import bigquery"
   ]
  },
  {
   "cell_type": "code",
   "execution_count": 4,
   "id": "7d8035e3-9412-473e-9496-6efd12965612",
   "metadata": {
    "tags": []
   },
   "outputs": [],
   "source": [
    "REGION = \"us-central1\"\n",
    "DETASET = \"book_database\"\n",
    "TABLE = \"pairs_2\""
   ]
  },
  {
   "cell_type": "markdown",
   "id": "cf1aa58b-5099-4037-b148-94c6c12cdf16",
   "metadata": {},
   "source": [
    "Load Data into Python"
   ]
  },
  {
   "cell_type": "code",
   "execution_count": 6,
   "id": "1704c890-3d78-4729-9015-d5675bf2f0d5",
   "metadata": {
    "tags": []
   },
   "outputs": [],
   "source": [
    "client = bigquery.Client()\n",
    "\n",
    "query = \"\"\"\n",
    "SELECT User_ID,ISBN,Book_Title,Book_Author,Year_Of_Publication FROM `tokyo-country-452614-f7.book_database.pairs_2`\n",
    "\"\"\"\n",
    "\n",
    "df = client.query(query).to_dataframe()\n"
   ]
  },
  {
   "cell_type": "code",
   "execution_count": 7,
   "id": "25c89117-65ea-401d-b38c-2371057eae6f",
   "metadata": {
    "tags": []
   },
   "outputs": [
    {
     "data": {
      "text/html": [
       "<div>\n",
       "<style scoped>\n",
       "    .dataframe tbody tr th:only-of-type {\n",
       "        vertical-align: middle;\n",
       "    }\n",
       "\n",
       "    .dataframe tbody tr th {\n",
       "        vertical-align: top;\n",
       "    }\n",
       "\n",
       "    .dataframe thead th {\n",
       "        text-align: right;\n",
       "    }\n",
       "</style>\n",
       "<table border=\"1\" class=\"dataframe\">\n",
       "  <thead>\n",
       "    <tr style=\"text-align: right;\">\n",
       "      <th></th>\n",
       "      <th>User_ID</th>\n",
       "      <th>ISBN</th>\n",
       "      <th>Book_Title</th>\n",
       "      <th>Book_Author</th>\n",
       "      <th>Year_Of_Publication</th>\n",
       "    </tr>\n",
       "  </thead>\n",
       "  <tbody>\n",
       "    <tr>\n",
       "      <th>0</th>\n",
       "      <td>75081</td>\n",
       "      <td>0553204467</td>\n",
       "      <td>Yesterday Today and Forever</td>\n",
       "      <td>Jeane Dixon</td>\n",
       "      <td>1976</td>\n",
       "    </tr>\n",
       "    <tr>\n",
       "      <th>1</th>\n",
       "      <td>75081</td>\n",
       "      <td>0876040628</td>\n",
       "      <td>Meditation: Gateway to Light</td>\n",
       "      <td>Elsie Sechrist</td>\n",
       "      <td>1972</td>\n",
       "    </tr>\n",
       "    <tr>\n",
       "      <th>2</th>\n",
       "      <td>75081</td>\n",
       "      <td>0060905204</td>\n",
       "      <td>The Findhorn Garden</td>\n",
       "      <td>Findhorn Community</td>\n",
       "      <td>1976</td>\n",
       "    </tr>\n",
       "    <tr>\n",
       "      <th>3</th>\n",
       "      <td>75081</td>\n",
       "      <td>0316380318</td>\n",
       "      <td>The Best Short Stories by Black Writers : 1899...</td>\n",
       "      <td>Langston Hughes</td>\n",
       "      <td>1969</td>\n",
       "    </tr>\n",
       "    <tr>\n",
       "      <th>4</th>\n",
       "      <td>38357</td>\n",
       "      <td>0140036954</td>\n",
       "      <td>Strange meeting</td>\n",
       "      <td>Susan Hill</td>\n",
       "      <td>1974</td>\n",
       "    </tr>\n",
       "  </tbody>\n",
       "</table>\n",
       "</div>"
      ],
      "text/plain": [
       "  User_ID        ISBN                                         Book_Title  \\\n",
       "0   75081  0553204467                        Yesterday Today and Forever   \n",
       "1   75081  0876040628                       Meditation: Gateway to Light   \n",
       "2   75081  0060905204                                The Findhorn Garden   \n",
       "3   75081  0316380318  The Best Short Stories by Black Writers : 1899...   \n",
       "4   38357  0140036954                                    Strange meeting   \n",
       "\n",
       "          Book_Author Year_Of_Publication  \n",
       "0         Jeane Dixon                1976  \n",
       "1      Elsie Sechrist                1972  \n",
       "2  Findhorn Community                1976  \n",
       "3     Langston Hughes                1969  \n",
       "4          Susan Hill                1974  "
      ]
     },
     "execution_count": 7,
     "metadata": {},
     "output_type": "execute_result"
    }
   ],
   "source": [
    "df.head()"
   ]
  },
  {
   "cell_type": "code",
   "execution_count": 8,
   "id": "3bded276-48c8-4563-a0e3-7697c0f20126",
   "metadata": {
    "tags": []
   },
   "outputs": [
    {
     "name": "stdout",
     "output_type": "stream",
     "text": [
      "False\n"
     ]
    }
   ],
   "source": [
    "print(df.isnull().values.any())  #No Null Values present in dataframe"
   ]
  },
  {
   "cell_type": "code",
   "execution_count": 9,
   "id": "dcca7026-7aa3-40f6-b5ac-f48027135f6c",
   "metadata": {
    "tags": []
   },
   "outputs": [
    {
     "name": "stdout",
     "output_type": "stream",
     "text": [
      "User_ID                object\n",
      "ISBN                   object\n",
      "Book_Title             object\n",
      "Book_Author            object\n",
      "Year_Of_Publication    object\n",
      "dtype: object\n"
     ]
    }
   ],
   "source": [
    "print(df.dtypes)"
   ]
  },
  {
   "cell_type": "code",
   "execution_count": 10,
   "id": "c2e6e863-54a8-4b7a-a251-e53730520bcd",
   "metadata": {
    "tags": []
   },
   "outputs": [
    {
     "name": "stdout",
     "output_type": "stream",
     "text": [
      "<class 'pandas.core.frame.DataFrame'>\n",
      "RangeIndex: 164015 entries, 0 to 164014\n",
      "Data columns (total 5 columns):\n",
      " #   Column               Non-Null Count   Dtype \n",
      "---  ------               --------------   ----- \n",
      " 0   User_ID              164015 non-null  object\n",
      " 1   ISBN                 164015 non-null  object\n",
      " 2   Book_Title           164015 non-null  object\n",
      " 3   Book_Author          164015 non-null  object\n",
      " 4   Year_Of_Publication  164015 non-null  object\n",
      "dtypes: object(5)\n",
      "memory usage: 6.3+ MB\n"
     ]
    }
   ],
   "source": [
    "df.info()"
   ]
  },
  {
   "cell_type": "markdown",
   "id": "7cd1a6bb-4c8a-4acb-b896-b92a27c03ff8",
   "metadata": {},
   "source": [
    "Ensure all columns are string"
   ]
  },
  {
   "cell_type": "code",
   "execution_count": 12,
   "id": "4bd654a4-e44e-419e-8522-66ee49942736",
   "metadata": {
    "tags": []
   },
   "outputs": [],
   "source": [
    "df[\"User_ID\"] = df[\"User_ID\"].astype(str)\n",
    "df[\"ISBN\"] = df[\"ISBN\"].astype(str)\n",
    "df[\"Book_Title\"] = df[\"Book_Title\"].astype(str)\n",
    "df[\"Book_Author\"] = df[\"Book_Author\"].astype(str)\n",
    "df[\"Year_Of_Publication\"] = df[\"Year_Of_Publication\"].astype(str)"
   ]
  },
  {
   "cell_type": "markdown",
   "id": "5e9e0641-b37c-434d-abe0-9549f6f8aee5",
   "metadata": {},
   "source": [
    "Create Vocabularies"
   ]
  },
  {
   "cell_type": "code",
   "execution_count": 17,
   "id": "4d665a52-0816-42a7-8a99-4c0b83c14b3a",
   "metadata": {
    "tags": []
   },
   "outputs": [],
   "source": [
    "user_ids = sorted(df[\"User_ID\"].unique())\n",
    "book_ids = sorted(df[\"ISBN\"].unique())\n",
    "title_vocab = sorted(df[\"Book_Title\"].unique())\n",
    "author_vocab = sorted(df[\"Book_Author\"].unique())\n",
    "year_vocab = sorted(df[\"Year_Of_Publication\"].unique())"
   ]
  },
  {
   "cell_type": "markdown",
   "id": "88078d53-a877-4bfa-887b-0ff0ced9277a",
   "metadata": {},
   "source": [
    "#Define Embedding Dimension (Hyperparameter)"
   ]
  },
  {
   "cell_type": "code",
   "execution_count": 35,
   "id": "d974ba69-4055-446b-b765-b7d1c1107b25",
   "metadata": {
    "tags": []
   },
   "outputs": [],
   "source": [
    "embedding_dimension = 64"
   ]
  },
  {
   "cell_type": "markdown",
   "id": "7021667c-a752-47fd-94b0-2e14e5a63f9f",
   "metadata": {},
   "source": [
    "User Model"
   ]
  },
  {
   "cell_type": "code",
   "execution_count": 60,
   "id": "e6b27368-eb75-4fa1-8792-826d017a8919",
   "metadata": {
    "tags": []
   },
   "outputs": [],
   "source": [
    "class UserModel(tf.keras.Model):\n",
    "    def __init__(self, user_ids):\n",
    "        super().__init__()\n",
    "        self.lookup_layer = tf.keras.layers.StringLookup(vocabulary=user_ids, mask_token=None)\n",
    "        self.embedding = tf.keras.layers.Embedding(len(user_ids) + 1, embedding_dimension)\n",
    "        self.dense = tf.keras.layers.Dense(embedding_dimension,activation=\"relu\")\n",
    "        \n",
    "    def call(self,inputs):\n",
    "        user_index = self.lookup_layer(inputs) \n",
    "        user_embeddings = self.embedding(user_index)\n",
    "        return self.dense(user_embeddings)"
   ]
  },
  {
   "cell_type": "markdown",
   "id": "6dc1135a-1654-44b9-a6d6-2573dc166dc0",
   "metadata": {},
   "source": [
    "Book Model"
   ]
  },
  {
   "cell_type": "code",
   "execution_count": 61,
   "id": "1d4fb9cd-70c2-46c4-9e58-b7103c8d1a23",
   "metadata": {
    "tags": []
   },
   "outputs": [],
   "source": [
    "class BookModel(tf.keras.Model):\n",
    "    def __init__(self,book_ids, title_vocab, author_vocab, year_vocab):\n",
    "        super().__init__()\n",
    "        \n",
    "        self.book_lookup = tf.keras.layers.StringLookup(vocabulary=book_ids, mask_token=None)\n",
    "        self.title_lookup = tf.keras.layers.StringLookup(vocabulary=title_vocab, mask_token=None)\n",
    "        self.author_lookup = tf.keras.layers.StringLookup(vocabulary=author_vocab, mask_token=None)\n",
    "        self.year_lookup = tf.keras.layers.StringLookup(vocabulary=year_vocab, mask_token=None)\n",
    "\n",
    "        self.book_embedding = tf.keras.layers.Embedding(len(book_ids)+1, embedding_dimension)\n",
    "        self.title_embedding = tf.keras.layers.Embedding(len(title_vocab)+1, embedding_dimension)\n",
    "        self.author_embedding = tf.keras.layers.Embedding(len(author_vocab)+1, embedding_dimension)\n",
    "        self.year_embedding = tf.keras.layers.Embedding(len(year_vocab)+1, embedding_dimension)\n",
    "        self.dense = tf.keras.layers.Dense(embedding_dimension,activation = \"relu\")\n",
    "    \n",
    "    def call(self,inputs):\n",
    "        book_id = inputs[\"ISBN\"]\n",
    "        book_index = self.book_lookup(inputs[\"ISBN\"])\n",
    "        title_index = self.title_lookup(inputs[\"Book_Title\"])\n",
    "        author_index = self.author_lookup(inputs[\"Book_Author\"])\n",
    "        year_index = self.year_lookup(inputs[\"Year_Of_Publication\"])\n",
    "        \n",
    "        book_embed = self.book_embedding(book_index)\n",
    "        title_embed = self.book_embedding(title_index)\n",
    "        author_embed = self.book_embedding(author_index)\n",
    "        year_embed = self.book_embedding(year_index)\n",
    "        combined_embed = tf.concat([book_embed,title_embed,author_embed,year_embed],axis=1)\n",
    "        final_embed = self.dense(combined_embed)\n",
    "        return {\"id\" : book_id, \"embedding\" : final_embed}\n",
    "        "
   ]
  },
  {
   "cell_type": "code",
   "execution_count": null,
   "id": "c5ccdaf5-0ac9-48ca-8858-55125903ddda",
   "metadata": {},
   "outputs": [],
   "source": [
    "Two Tower Model"
   ]
  },
  {
   "cell_type": "code",
   "execution_count": 62,
   "id": "a1021552-35ad-467a-b3ee-2dc259e3031e",
   "metadata": {
    "tags": []
   },
   "outputs": [],
   "source": [
    "class TwoTowerModel(tfrs.models.Model):\n",
    "    def __init__(self, user_ids, book_ids, title_vocab, author_vocab, year_vocab):\n",
    "        super().__init__()\n",
    "        self.user_model = UserModel(user_ids)\n",
    "        self.book_model = BookModel(book_ids, title_vocab, author_vocab, year_vocab)\n",
    "        self.task = tfrs.tasks.Retrieval()\n",
    "        \n",
    "    def compute_loss(self,features,training=False):\n",
    "        user_embeddings = self.user_model(features[\"User_ID\"])\n",
    "        book_output = self.book_model({\n",
    "            \"ISBN\" : features[\"ISBN\"],\n",
    "            \"Book_Title\" : features[\"Book_Title\"],\n",
    "            \"Book_Author\" : features[\"Book_Author\"],\n",
    "            \"Year_Of_Publication\" : features[\"Year_Of_Publication\"]\n",
    "        })\n",
    "        \n",
    "        book_embeddings = book_output[\"embedding\"]\n",
    "        \n",
    "        return self.task(user_embeddings,book_embeddings)\n",
    "        "
   ]
  },
  {
   "cell_type": "code",
   "execution_count": 63,
   "id": "eb581114-3133-4f21-a14e-bf7c244c3cb9",
   "metadata": {
    "tags": []
   },
   "outputs": [],
   "source": [
    "tf_data = (\n",
    "    tf.data.Dataset.from_tensor_slices({\n",
    "        \"User_ID\" : df[\"User_ID\"].values,\n",
    "        \"ISBN\" : df[\"ISBN\"].values,\n",
    "        \"Book_Title\" : df[\"Book_Title\"].values,\n",
    "        \"Book_Author\" : df[\"Book_Author\"].values,\n",
    "        \"Year_Of_Publication\" : df[\"Year_Of_Publication\"].values\n",
    "    })\n",
    "    .shuffle(buffer_size=10000)\n",
    "    .batch(256)\n",
    "    .prefetch(tf.data.AUTOTUNE)\n",
    "\n",
    ")"
   ]
  },
  {
   "cell_type": "code",
   "execution_count": 64,
   "id": "bb73be95-0317-4d16-a7c4-f584654b4491",
   "metadata": {
    "tags": []
   },
   "outputs": [
    {
     "name": "stdout",
     "output_type": "stream",
     "text": [
      "Epoch 1/5\n",
      "641/641 [==============================] - 196s 296ms/step - loss: 1383.9717 - regularization_loss: 0.0000e+00 - total_loss: 1383.9717\n",
      "Epoch 2/5\n",
      "641/641 [==============================] - 190s 297ms/step - loss: 1241.7157 - regularization_loss: 0.0000e+00 - total_loss: 1241.7157\n",
      "Epoch 3/5\n",
      "641/641 [==============================] - 194s 302ms/step - loss: 999.6321 - regularization_loss: 0.0000e+00 - total_loss: 999.6321\n",
      "Epoch 4/5\n",
      "641/641 [==============================] - 192s 300ms/step - loss: 741.1448 - regularization_loss: 0.0000e+00 - total_loss: 741.1448\n",
      "Epoch 5/5\n",
      "641/641 [==============================] - 193s 301ms/step - loss: 572.2789 - regularization_loss: 0.0000e+00 - total_loss: 572.2789\n"
     ]
    },
    {
     "data": {
      "text/plain": [
       "<keras.src.callbacks.History at 0x7fe238667af0>"
      ]
     },
     "execution_count": 64,
     "metadata": {},
     "output_type": "execute_result"
    }
   ],
   "source": [
    "model = TwoTowerModel(user_ids,book_ids,title_vocab, author_vocab, year_vocab)\n",
    "model.compile(optimizer = tf.keras.optimizers.Adam(learning_rate=0.001))\n",
    "model.fit(tf_data,epochs=5)"
   ]
  },
  {
   "cell_type": "code",
   "execution_count": 65,
   "id": "592992a7-feb6-4645-bb91-dccf88846bf3",
   "metadata": {
    "tags": []
   },
   "outputs": [],
   "source": [
    "query_model = model.user_model\n",
    "candidate_model = model.book_model"
   ]
  },
  {
   "cell_type": "code",
   "execution_count": 58,
   "id": "3c6c3140-72bb-4e44-b637-94dfd9d5287b",
   "metadata": {
    "tags": []
   },
   "outputs": [],
   "source": [
    "mkdir books"
   ]
  },
  {
   "cell_type": "code",
   "execution_count": 66,
   "id": "70afaf80-5b76-45c3-a17e-3d41192fe709",
   "metadata": {
    "tags": []
   },
   "outputs": [
    {
     "name": "stdout",
     "output_type": "stream",
     "text": [
      "INFO:tensorflow:Assets written to: books/query_model/assets\n"
     ]
    },
    {
     "name": "stderr",
     "output_type": "stream",
     "text": [
      "INFO:tensorflow:Assets written to: books/query_model/assets\n"
     ]
    },
    {
     "name": "stdout",
     "output_type": "stream",
     "text": [
      "WARNING:tensorflow:Skipping full serialization of Keras layer <keras.src.layers.core.embedding.Embedding object at 0x7fe238666a10>, because it is not built.\n"
     ]
    },
    {
     "name": "stderr",
     "output_type": "stream",
     "text": [
      "WARNING:tensorflow:Skipping full serialization of Keras layer <keras.src.layers.core.embedding.Embedding object at 0x7fe238666a10>, because it is not built.\n"
     ]
    },
    {
     "name": "stdout",
     "output_type": "stream",
     "text": [
      "WARNING:tensorflow:Skipping full serialization of Keras layer <keras.src.layers.core.embedding.Embedding object at 0x7fe238666da0>, because it is not built.\n"
     ]
    },
    {
     "name": "stderr",
     "output_type": "stream",
     "text": [
      "WARNING:tensorflow:Skipping full serialization of Keras layer <keras.src.layers.core.embedding.Embedding object at 0x7fe238666da0>, because it is not built.\n"
     ]
    },
    {
     "name": "stdout",
     "output_type": "stream",
     "text": [
      "WARNING:tensorflow:Skipping full serialization of Keras layer <keras.src.layers.core.embedding.Embedding object at 0x7fe238666d70>, because it is not built.\n"
     ]
    },
    {
     "name": "stderr",
     "output_type": "stream",
     "text": [
      "WARNING:tensorflow:Skipping full serialization of Keras layer <keras.src.layers.core.embedding.Embedding object at 0x7fe238666d70>, because it is not built.\n"
     ]
    },
    {
     "name": "stdout",
     "output_type": "stream",
     "text": [
      "INFO:tensorflow:Assets written to: books/candidate_model/assets\n"
     ]
    },
    {
     "name": "stderr",
     "output_type": "stream",
     "text": [
      "INFO:tensorflow:Assets written to: books/candidate_model/assets\n"
     ]
    }
   ],
   "source": [
    "query_model.save(\"books/query_model\")\n",
    "candidate_model.save(\"books/candidate_model\")"
   ]
  },
  {
   "cell_type": "code",
   "execution_count": 8,
   "id": "8eccc162-a17c-443e-b000-fdb312470453",
   "metadata": {},
   "outputs": [],
   "source": [
    "loaded_query_model = tf.saved_model.load(\"books/query_model\")\n",
    "loaded_candidate_model = tf.saved_model.load(\"books/candidate_model\")"
   ]
  },
  {
   "cell_type": "code",
   "execution_count": 13,
   "id": "97af3549-71cb-4e7a-b9db-46051cc84560",
   "metadata": {
    "tags": []
   },
   "outputs": [
    {
     "name": "stdout",
     "output_type": "stream",
     "text": [
      "_SignatureMap({'serving_default': <ConcreteFunction (*, input_1: TensorSpec(shape=(None,), dtype=tf.string, name='input_1')) -> Dict[['output_1', TensorSpec(shape=(None, 64), dtype=tf.float32, name='output_1')]] at 0x7F0AEA0ACB80>})\n"
     ]
    }
   ],
   "source": [
    "print(loaded_query_model.signatures)"
   ]
  },
  {
   "cell_type": "code",
   "execution_count": 14,
   "id": "b77da1bd-3a2f-473b-ba50-e0143bdf8d30",
   "metadata": {
    "tags": []
   },
   "outputs": [
    {
     "name": "stdout",
     "output_type": "stream",
     "text": [
      "_SignatureMap({'serving_default': <ConcreteFunction (*, Book_Author: TensorSpec(shape=(None,), dtype=tf.string, name='book_author'), Book_Title: TensorSpec(shape=(None,), dtype=tf.string, name='book_title'), ISBN: TensorSpec(shape=(None,), dtype=tf.string, name='isbn'), Year_Of_Publication: TensorSpec(shape=(None,), dtype=tf.string, name='year_of_publication')) -> Dict[['embedding', TensorSpec(shape=(None, 64), dtype=tf.float32, name='embedding')], ['id', TensorSpec(shape=(None,), dtype=tf.string, name='id')]] at 0x7F0AE86FC220>})\n"
     ]
    }
   ],
   "source": [
    "print(loaded_candidate_model.signatures)"
   ]
  },
  {
   "cell_type": "code",
   "execution_count": 15,
   "id": "2867a540-8bae-4649-b592-8dc050f98db1",
   "metadata": {
    "tags": []
   },
   "outputs": [
    {
     "name": "stdout",
     "output_type": "stream",
     "text": [
      "tf.Tensor(\n",
      "[[0.26124555 0.23750721 0.72505647 0.3894252  0.23232184 0.50466865\n",
      "  0.5880144  0.5964332  0.49082732 0.4587138  0.4789254  0.4529028\n",
      "  0.5956879  0.17543778 0.6506428  0.2970649  0.18927327 0.500794\n",
      "  0.61343503 0.37366652 0.5785155  0.39873856 0.5460372  0.49394974\n",
      "  0.32079205 0.29255486 0.3975669  0.5584178  0.510144   0.31482852\n",
      "  0.46396828 0.41620603 0.6453707  0.42953345 0.42790645 0.49637657\n",
      "  0.47070307 0.0468829  0.26100796 0.20228162 0.41510168 0.6292526\n",
      "  0.6452517  0.5317269  0.15060513 0.35874826 0.38904995 0.53180027\n",
      "  0.40575382 0.5617276  0.4925018  0.41196015 0.5534923  0.49143255\n",
      "  0.29370987 0.20485757 0.31414306 0.48874715 0.43116254 0.246707\n",
      "  0.4087636  0.45340723 0.49837047 0.6135304 ]], shape=(1, 64), dtype=float32)\n"
     ]
    }
   ],
   "source": [
    "test_user_id = tf.constant([\"42\"])\n",
    "\n",
    "user_embedding_ot = loaded_query_model(test_user_id)\n",
    "print(user_embedding_ot)"
   ]
  },
  {
   "cell_type": "code",
   "execution_count": 16,
   "id": "0abd938f-5d6f-48f4-8c4b-8b5b1e3cc37c",
   "metadata": {
    "tags": []
   },
   "outputs": [
    {
     "name": "stdout",
     "output_type": "stream",
     "text": [
      "tf.Tensor([b'0330293907'], shape=(1,), dtype=string)\n",
      "tf.Tensor(\n",
      "[[1.2270631  0.73145807 2.195582   1.292615   1.1155738  1.5110795\n",
      "  2.0170941  2.09883    1.9978099  1.1053503  1.0045266  1.1028476\n",
      "  1.2476037  1.1757245  1.1957431  0.92618465 0.77474535 0.7898278\n",
      "  0.7028116  1.057468   1.8146853  0.69048387 1.0737748  0.5594988\n",
      "  1.291427   1.1648805  1.4420921  1.7755616  1.8319212  0.8528392\n",
      "  0.71825016 0.83830404 1.5096476  1.6935405  1.2154536  1.50477\n",
      "  1.1262057  0.7687188  1.3263558  0.1250931  0.91325074 2.3440735\n",
      "  1.0618215  1.3831617  0.70299715 0.6843505  1.2896416  0.8580639\n",
      "  0.83263296 0.84633994 1.7370698  1.7622304  1.6075944  0.89473784\n",
      "  1.0568725  1.5099087  0.5255393  1.6575549  0.45758986 0.71861446\n",
      "  0.6356787  1.0942835  1.2138654  1.1128423 ]], shape=(1, 64), dtype=float32)\n"
     ]
    }
   ],
   "source": [
    "test_book_ip = {\n",
    "    \"ISBN\" : tf.constant([\"0330293907\"]),\n",
    "    \"Book_Title\" : tf.constant([\"Book of Travellers Tales\"]),\n",
    "    \"Book_Author\" : tf.constant([\"Eric Newby\"]),\n",
    "    \"Year_Of_Publication\" : tf.constant([\"1985\"]),\n",
    "}\n",
    "\n",
    "book_embedding_ot = loaded_candidate_model(test_book_ip)\n",
    "\n",
    "print(book_embedding_ot[\"id\"])\n",
    "print(book_embedding_ot[\"embedding\"])"
   ]
  },
  {
   "cell_type": "markdown",
   "id": "9cef8edf-56b6-43f7-82f4-d9eb2317a268",
   "metadata": {},
   "source": [
    "Upload & Deploy Model for batch and online prediction"
   ]
  },
  {
   "cell_type": "code",
   "execution_count": 17,
   "id": "39f74ece-e005-4b27-ae9b-c30b9f37687b",
   "metadata": {
    "tags": []
   },
   "outputs": [],
   "source": [
    "!gcloud services enable aiplatform.googleapis.com "
   ]
  },
  {
   "cell_type": "markdown",
   "id": "12636c5d-e588-468d-9740-7896b97b0528",
   "metadata": {},
   "source": [
    "1. upload query and candidate model to GCS Bucket"
   ]
  },
  {
   "cell_type": "code",
   "execution_count": 22,
   "id": "d855106c-54c5-438d-b53d-7f26836a56cc",
   "metadata": {
    "tags": []
   },
   "outputs": [],
   "source": [
    "BUCKET_NAME = \"gs://book-recsys-bucket\"\n",
    "\n",
    "QUERY_MODEL = \"books/query_model\"\n",
    "CANDIDATE_MODEL = \"books/candidate_model\"\n",
    "serving_image = \"us-docker.pkg.dev/vertex-ai/prediction/tf2-cpu.2-11:latest\""
   ]
  },
  {
   "cell_type": "code",
   "execution_count": 20,
   "id": "d4dda5c4-b86e-4f3a-939f-621d9bad14e8",
   "metadata": {
    "tags": []
   },
   "outputs": [],
   "source": [
    "aiplatform.init(project = PROJECT_ID, location=REGION, staging_bucket = BUCKET_NAME)"
   ]
  },
  {
   "cell_type": "code",
   "execution_count": 21,
   "id": "5c98bc43-cede-424e-9660-327bd19f8194",
   "metadata": {
    "tags": []
   },
   "outputs": [],
   "source": [
    "def upload_model(model_name,model_path,serving_container_image):\n",
    "    \n",
    "    model = aiplatform.Model.upload(\n",
    "        display_name = model_name,\n",
    "        artifact_uri = model_path,\n",
    "        serving_container_image_uri = serving_container_image,\n",
    "    )\n",
    "    \n",
    "    return model"
   ]
  },
  {
   "cell_type": "code",
   "execution_count": 23,
   "id": "27fdc4c5-6d1e-46f6-93b3-3780dd08e6f2",
   "metadata": {
    "tags": []
   },
   "outputs": [
    {
     "name": "stdout",
     "output_type": "stream",
     "text": [
      "Creating Model\n",
      "Create Model backing LRO: projects/738666983022/locations/us-central1/models/2790645173690826752/operations/4638816570921975808\n",
      "Model created. Resource name: projects/738666983022/locations/us-central1/models/2790645173690826752@1\n",
      "To use this Model in another session:\n",
      "model = aiplatform.Model('projects/738666983022/locations/us-central1/models/2790645173690826752@1')\n"
     ]
    }
   ],
   "source": [
    "query_model = upload_model(\"query_model\",QUERY_MODEL,serving_image)"
   ]
  },
  {
   "cell_type": "code",
   "execution_count": 24,
   "id": "e96aac49-44c7-4546-a094-b77ebd3936d7",
   "metadata": {
    "tags": []
   },
   "outputs": [
    {
     "name": "stdout",
     "output_type": "stream",
     "text": [
      "Creating Model\n",
      "Create Model backing LRO: projects/738666983022/locations/us-central1/models/7149003713078624256/operations/3836964731017494528\n",
      "Model created. Resource name: projects/738666983022/locations/us-central1/models/7149003713078624256@1\n",
      "To use this Model in another session:\n",
      "model = aiplatform.Model('projects/738666983022/locations/us-central1/models/7149003713078624256@1')\n"
     ]
    }
   ],
   "source": [
    "candidate_model = upload_model(\"candidate_model\",CANDIDATE_MODEL,serving_image)"
   ]
  },
  {
   "cell_type": "code",
   "execution_count": 25,
   "id": "72977d89-3b72-44ac-9fb3-8bb18c700d49",
   "metadata": {
    "tags": []
   },
   "outputs": [
    {
     "name": "stdout",
     "output_type": "stream",
     "text": [
      "Creating Endpoint\n",
      "Create Endpoint backing LRO: projects/738666983022/locations/us-central1/endpoints/7454131383925997568/operations/8926243416178688000\n",
      "Endpoint created. Resource name: projects/738666983022/locations/us-central1/endpoints/7454131383925997568\n",
      "To use this Endpoint in another session:\n",
      "endpoint = aiplatform.Endpoint('projects/738666983022/locations/us-central1/endpoints/7454131383925997568')\n"
     ]
    }
   ],
   "source": [
    "endpoint = aiplatform.Endpoint.create(display_name = \"query_model_endpoint\")"
   ]
  },
  {
   "cell_type": "code",
   "execution_count": 26,
   "id": "d4b5b190-c408-4d30-b181-65ca02c70554",
   "metadata": {
    "tags": []
   },
   "outputs": [
    {
     "name": "stdout",
     "output_type": "stream",
     "text": [
      "Deploying model to Endpoint : projects/738666983022/locations/us-central1/endpoints/7454131383925997568\n",
      "Deploy Endpoint model backing LRO: projects/738666983022/locations/us-central1/endpoints/7454131383925997568/operations/7372501544735866880\n",
      "Endpoint model deployed. Resource name: projects/738666983022/locations/us-central1/endpoints/7454131383925997568\n"
     ]
    },
    {
     "data": {
      "text/plain": [
       "<google.cloud.aiplatform.models.Endpoint object at 0x7f0b76e40d60> \n",
       "resource name: projects/738666983022/locations/us-central1/endpoints/7454131383925997568"
      ]
     },
     "execution_count": 26,
     "metadata": {},
     "output_type": "execute_result"
    }
   ],
   "source": [
    "query_model.deploy(endpoint = endpoint,\n",
    "                  machine_type = \"n1-standard-4\",\n",
    "                  traffic_percentage=100,\n",
    "                  deployed_model_display_name = \"query_model_deployment\")"
   ]
  },
  {
   "cell_type": "code",
   "execution_count": 27,
   "id": "0497c903-1065-4598-993a-a04e3e679762",
   "metadata": {
    "tags": []
   },
   "outputs": [
    {
     "name": "stdout",
     "output_type": "stream",
     "text": [
      "Query Model deployed to endpoint: projects/738666983022/locations/us-central1/endpoints/7454131383925997568\n"
     ]
    }
   ],
   "source": [
    "print(f\"Query Model deployed to endpoint: {endpoint.resource_name}\")"
   ]
  },
  {
   "cell_type": "code",
   "execution_count": null,
   "id": "81e7ea13-d1b6-4bb6-83c8-3f9158200c91",
   "metadata": {},
   "outputs": [],
   "source": [
    "#now get data from bigquery table and submit for batch prediction"
   ]
  },
  {
   "cell_type": "code",
   "execution_count": 32,
   "id": "cce5b90f-57e3-48fe-8306-a8bf1ae230e3",
   "metadata": {
    "tags": []
   },
   "outputs": [],
   "source": [
    "GCS_OUTPUT_PREFIX = \"gs://book-recsys-bucket/batch-outputs/\"\n",
    "bigquery_source = \"bq://tokyo-country-452614-f7.book_database.books_2\"\n"
   ]
  },
  {
   "cell_type": "code",
   "execution_count": 38,
   "id": "1a6ccd4b-4a66-4244-be72-869f052bf00e",
   "metadata": {
    "tags": []
   },
   "outputs": [
    {
     "name": "stdout",
     "output_type": "stream",
     "text": [
      "Data successfully uploaded to GCS: gs://book-recsys-bucket/batch_inputs/books_data.jsonl\n"
     ]
    }
   ],
   "source": [
    "from google.cloud import bigquery, storage\n",
    "import json\n",
    "import decimal\n",
    "\n",
    "\n",
    "BUCKET_NAME = \"book-recsys-bucket\"\n",
    "GCS_FILE_PATH = \"batch_inputs/books_data.jsonl\"  # Path in GCS\n",
    "\n",
    "# Initialize BigQuery Client\n",
    "bq_client = bigquery.Client(project=PROJECT_ID)\n",
    "\n",
    "# Define BigQuery SQL Query\n",
    "query = \"\"\"\n",
    "SELECT \n",
    "    book_id AS ISBN, \n",
    "    book_title AS Book_Title, \n",
    "    book_author AS Book_Author, \n",
    "    book_year AS Year_Of_Publication\n",
    "FROM `tokyo-country-452614-f7.book_database.books`\n",
    "\"\"\"\n",
    "\n",
    "# Run Query\n",
    "query_job = bq_client.query(query)\n",
    "rows = query_job.result()\n",
    "\n",
    "# Function to handle Decimal serialization\n",
    "def convert_types(obj):\n",
    "    if isinstance(obj, decimal.Decimal):\n",
    "        return str(obj)  # Convert Decimal to Float\n",
    "    return obj\n",
    "\n",
    "# Convert Query Results to JSONL Format\n",
    "jsonl_data = [json.dumps({k: convert_types(v) for k, v in dict(row).items()}) for row in rows]\n",
    "jsonl_string = \"\\n\".join(jsonl_data)  # Convert list to JSONL format\n",
    "\n",
    "# Initialize GCS Client\n",
    "storage_client = storage.Client()\n",
    "bucket = storage_client.bucket(BUCKET_NAME)\n",
    "blob = bucket.blob(GCS_FILE_PATH)\n",
    "\n",
    "# Upload JSONL File to GCS\n",
    "blob.upload_from_string(jsonl_string, content_type=\"application/json\")\n",
    "\n",
    "print(f\"Data successfully uploaded to GCS: gs://{BUCKET_NAME}/{GCS_FILE_PATH}\")\n"
   ]
  },
  {
   "cell_type": "code",
   "execution_count": 39,
   "id": "813bc9c4-a184-4cb8-8c73-a2ecb6b73221",
   "metadata": {
    "tags": []
   },
   "outputs": [
    {
     "name": "stdout",
     "output_type": "stream",
     "text": [
      "Creating BatchPredictionJob\n",
      "BatchPredictionJob created. Resource name: projects/738666983022/locations/us-central1/batchPredictionJobs/2293920746935681024\n",
      "To use this BatchPredictionJob in another session:\n",
      "bpj = aiplatform.BatchPredictionJob('projects/738666983022/locations/us-central1/batchPredictionJobs/2293920746935681024')\n",
      "View Batch Prediction Job:\n",
      "https://console.cloud.google.com/ai/platform/locations/us-central1/batch-predictions/2293920746935681024?project=738666983022\n",
      "BatchPredictionJob projects/738666983022/locations/us-central1/batchPredictionJobs/2293920746935681024 current state:\n",
      "JobState.JOB_STATE_RUNNING\n",
      "BatchPredictionJob projects/738666983022/locations/us-central1/batchPredictionJobs/2293920746935681024 current state:\n",
      "JobState.JOB_STATE_RUNNING\n",
      "BatchPredictionJob projects/738666983022/locations/us-central1/batchPredictionJobs/2293920746935681024 current state:\n",
      "JobState.JOB_STATE_RUNNING\n",
      "BatchPredictionJob projects/738666983022/locations/us-central1/batchPredictionJobs/2293920746935681024 current state:\n",
      "JobState.JOB_STATE_RUNNING\n",
      "BatchPredictionJob projects/738666983022/locations/us-central1/batchPredictionJobs/2293920746935681024 current state:\n",
      "JobState.JOB_STATE_RUNNING\n",
      "BatchPredictionJob projects/738666983022/locations/us-central1/batchPredictionJobs/2293920746935681024 current state:\n",
      "JobState.JOB_STATE_RUNNING\n",
      "BatchPredictionJob projects/738666983022/locations/us-central1/batchPredictionJobs/2293920746935681024 current state:\n",
      "JobState.JOB_STATE_RUNNING\n",
      "BatchPredictionJob projects/738666983022/locations/us-central1/batchPredictionJobs/2293920746935681024 current state:\n",
      "JobState.JOB_STATE_RUNNING\n",
      "BatchPredictionJob projects/738666983022/locations/us-central1/batchPredictionJobs/2293920746935681024 current state:\n",
      "JobState.JOB_STATE_SUCCEEDED\n",
      "BatchPredictionJob run completed. Resource name: projects/738666983022/locations/us-central1/batchPredictionJobs/2293920746935681024\n"
     ]
    }
   ],
   "source": [
    "batch_prediction_job = aiplatform.BatchPredictionJob.create(\n",
    "    job_display_name = \"book_recsys_predictions\",\n",
    "    model_name = candidate_model.resource_name,\n",
    "    gcs_source = \"gs://book-recsys-bucket/batch_inputs/books_data.jsonl\",\n",
    "    gcs_destination_prefix = GCS_OUTPUT_PREFIX,\n",
    "    instances_format = \"jsonl\",\n",
    "    predictions_format = \"jsonl\",\n",
    "    machine_type = \"n1-standard-4\",\n",
    ")"
   ]
  },
  {
   "cell_type": "markdown",
   "id": "14d17b7c-d808-4d64-b081-0118a3256105",
   "metadata": {},
   "source": [
    "Coveret batch output to matching engine index compatible format"
   ]
  },
  {
   "cell_type": "code",
   "execution_count": 41,
   "id": "d52e5dab-093c-4b41-b61f-90747699814b",
   "metadata": {
    "tags": []
   },
   "outputs": [
    {
     "name": "stdout",
     "output_type": "stream",
     "text": [
      "\n",
      "\u001b[1m[\u001b[0m\u001b[34;49mnotice\u001b[0m\u001b[1;39;49m]\u001b[0m\u001b[39;49m A new release of pip is available: \u001b[0m\u001b[31;49m25.0\u001b[0m\u001b[39;49m -> \u001b[0m\u001b[32;49m25.0.1\u001b[0m\n",
      "\u001b[1m[\u001b[0m\u001b[34;49mnotice\u001b[0m\u001b[1;39;49m]\u001b[0m\u001b[39;49m To update, run: \u001b[0m\u001b[32;49mpip install --upgrade pip\u001b[0m\n"
     ]
    }
   ],
   "source": [
    "!pip install -q jsonlines"
   ]
  },
  {
   "cell_type": "code",
   "execution_count": 50,
   "id": "cc0fd1ac-08ab-4021-b405-3bf8b8d4b788",
   "metadata": {
    "tags": []
   },
   "outputs": [
    {
     "name": "stdout",
     "output_type": "stream",
     "text": [
      "271356\n"
     ]
    }
   ],
   "source": [
    "import jsonlines\n",
    "\n",
    "storage_client = storage.Client()\n",
    "batch_bucket = storage_client.bucket(BUCKET_NAME)\n",
    "\n",
    "embeddings = []\n",
    "prefix = \"batch-outputs/prediction-candidate_model-2025_03_31T08_08_37_420Z/prediction.results\"\n",
    "\n",
    "blobs = batch_bucket.list_blobs(prefix=prefix)\n",
    "\n",
    "for blob in blobs:\n",
    "    file_jsonl = blob.download_as_string()\n",
    "    for line in file_jsonl.splitlines():\n",
    "        candidate = json.loads(line)\n",
    "        embeddings.append({\"id\":candidate['prediction']['id'],\"embedding\":candidate['prediction']['embedding']})\n",
    "print(len(embeddings))\n",
    "\n",
    "with jsonlines.open('./embeddings.json','w') as writer:\n",
    "    writer.write_all(embeddings)\n",
    "    \n",
    "storage_client = storage.Client()\n",
    "bucket = storage_client.bucket(BUCKET_NAME)\n",
    "blob = bucket.blob('embeddings/embeddings.json')\n",
    "\n",
    "blob.upload_from_filename('./embeddings.json')"
   ]
  },
  {
   "cell_type": "code",
   "execution_count": null,
   "id": "36044f6b-3079-4866-8901-a313151bfaeb",
   "metadata": {},
   "outputs": [],
   "source": [
    "#create matching engine index"
   ]
  },
  {
   "cell_type": "code",
   "execution_count": 54,
   "id": "b044e53d-3398-4816-aed9-5faa0aa6c5cd",
   "metadata": {},
   "outputs": [
    {
     "name": "stdout",
     "output_type": "stream",
     "text": [
      "creating index...\n",
      "creating index with configs....\n",
      "creating...\n",
      "creating...\n",
      "creating...\n",
      "creating...\n",
      "creating...\n",
      "creating...\n",
      "creating...\n",
      "creating...\n",
      "creating...\n",
      "creating...\n",
      "creating...\n",
      "creating...\n",
      "created index is : projects/738666983022/locations/us-central1/indexes/3600207888640901120\n"
     ]
    }
   ],
   "source": [
    "from google.cloud import aiplatform_v1beta1\n",
    "from google.protobuf import struct_pb2\n",
    "import time\n",
    "import os.path\n",
    "\n",
    "index_name = \"book_recommendation\"\n",
    "ENDPOINT = \"{}-aiplatform.googleapis.com\".format(REGION)\n",
    "PARENT = \"projects/{}/locations/{}\".format(PROJECT_ID,REGION)\n",
    "\n",
    "index_client = aiplatform_v1beta1.IndexServiceClient(client_options = dict(api_endpoint = ENDPOINT))\n",
    "\n",
    "def create_index():\n",
    "    \n",
    "    print(\"creating index...\")\n",
    "    \n",
    "    treeAhConfig = struct_pb2.Struct(fields = {})\n",
    "    \n",
    "    algorithmconfig = struct_pb2.Struct(\n",
    "        fields = {\"treeAhConfig\" : struct_pb2.Value(struct_value = treeAhConfig)}\n",
    "    )\n",
    "    \n",
    "    config = struct_pb2.Struct(\n",
    "        fields = {\"dimensions\" : struct_pb2.Value(number_value=64),\n",
    "                 \"algorithmConfig\" : struct_pb2.Value(struct_value = algorithmconfig),\n",
    "                 \"approximateNeighborsCount\" : struct_pb2.Value(number_value = 150),}\n",
    "    )\n",
    "    \n",
    "    metadata = struct_pb2.Struct(\n",
    "        fields = {\"config\" : struct_pb2.Value(struct_value=config),\n",
    "                 \"contentsDeltaUri\" : struct_pb2.Value(string_value = \"gs://\" + BUCKET_NAME + \"/embeddings\"),\n",
    "                 \"isCompleteOverwrite\" : struct_pb2.Value(bool_value=True)}\n",
    "    )\n",
    "    \n",
    "    ann_index = {\"display_name\" : \"book_recommendation\",\n",
    "                \"description\" : \"recommends book based on DL and two tower model\",\n",
    "                \"metadata\" : struct_pb2.Value(struct_value=metadata),\n",
    "                }\n",
    "    \n",
    "    print(\"creating index with configs....\")\n",
    "    ann_index = index_client.create_index(parent=PARENT,index=ann_index)\n",
    "    \n",
    "    while not ann_index.done():\n",
    "        print(\"creating...\")\n",
    "        time.sleep(120)\n",
    "    return ann_index.result().name\n",
    "    \n",
    "    \n",
    "def update_index(name):\n",
    "    \n",
    "    print(\"update index if already exists...\")\n",
    "    \n",
    "    metadata = struct_pb2.Struct(\n",
    "        fields = {\"contentsDeltaUri\" : struct_pb2.Value(string_value = \"gs://\" + BUCKET_NAME + \"/embeddings\"),\n",
    "                 \"isCompleteOverwrite\" : struct_pb2.Value(bool_value=True)\n",
    "                 })\n",
    "    \n",
    "    ann_index = {\"name\" : name, \"metadata\" : struct_pb2.Value(struct_value = metadata),}\n",
    "    \n",
    "    index_update = index_client.update_index(index = ann_index)\n",
    "    \n",
    "\n",
    "\n",
    "indexes = index_client.list_indexes(parent=PARENT)\n",
    "type(indexes)\n",
    "\n",
    "index_resource_name = None\n",
    "index_existing = False\n",
    "\n",
    "for index in indexes:\n",
    "    if index.display_name == index.name:\n",
    "        index_existing = True\n",
    "        index_resource_name = index.name\n",
    "        break\n",
    "        \n",
    "if index_existing:\n",
    "    update_index(index_resource_name)\n",
    "    \n",
    "else:\n",
    "    index_resource_name = create_index()\n",
    "    \n",
    "print(\"created index is : \" + index_resource_name)"
   ]
  },
  {
   "cell_type": "code",
   "execution_count": null,
   "id": "12065b8c-5a74-49ea-ba9b-9627ae4856a4",
   "metadata": {},
   "outputs": [],
   "source": [
    "#create matching engine index endpoint"
   ]
  },
  {
   "cell_type": "code",
   "execution_count": 55,
   "id": "a3ce9bd3-6ab3-4cb3-8ecb-9ecca86eb6d5",
   "metadata": {},
   "outputs": [
    {
     "name": "stdout",
     "output_type": "stream",
     "text": [
      "projects/738666983022/global/networks/my-first-vpc-network\n"
     ]
    }
   ],
   "source": [
    "NETWORK_NAME = \"my-first-vpc-network\"\n",
    "PROJECT_NUMBER = \"738666983022\"\n",
    "VPC_NETWORK_NAME = \"projects/{}/global/networks/{}\".format(PROJECT_NUMBER, NETWORK_NAME)\n",
    "print(VPC_NETWORK_NAME)"
   ]
  },
  {
   "cell_type": "code",
   "execution_count": 56,
   "id": "5356c8fb-03ec-4d72-820c-723263aafd9c",
   "metadata": {
    "tags": []
   },
   "outputs": [
    {
     "name": "stdout",
     "output_type": "stream",
     "text": [
      "projects/738666983022/locations/us-central1/indexEndpoints/1890663020518965248\n"
     ]
    }
   ],
   "source": [
    "endpoint_name = \"index_endpoint_book_recommendation\"\n",
    "\n",
    "index_endpoint_client = aiplatform_v1beta1.IndexEndpointServiceClient(client_options = dict(api_endpoint=ENDPOINT))\n",
    "\n",
    "request = aiplatform_v1beta1.ListIndexEndpointsRequest(parent=PARENT,)\n",
    "\n",
    "endpoints = index_endpoint_client.list_index_endpoints(request=request)\n",
    "endpoint_existing = False\n",
    "INDEX_ENDPOINT_NAME = None\n",
    "\n",
    "for endpoint in endpoints:\n",
    "    if endpoint.display_name == endpoint_name:\n",
    "        endpoint_existing = True\n",
    "        INDEX_ENDPOINT_NAME = endpoint.name\n",
    "        break\n",
    "        \n",
    "if not endpoint_existing:\n",
    "    index_endpoint  = {\n",
    "        \"display_name\" : endpoint_name,\n",
    "        \"network\" : VPC_NETWORK_NAME,\n",
    "    }\n",
    "    \n",
    "    r = index_endpoint_client.create_index_endpoint(\n",
    "        parent = PARENT,\n",
    "        index_endpoint = index_endpoint\n",
    "    )\n",
    "    \n",
    "    r.result()\n",
    "    \n",
    "    INDEX_ENDPOINT_NAME = r.result().name\n",
    "    \n",
    "print(INDEX_ENDPOINT_NAME)\n"
   ]
  },
  {
   "cell_type": "code",
   "execution_count": null,
   "id": "ba5dad9c-21af-40a6-8f09-6744e7f58991",
   "metadata": {},
   "outputs": [],
   "source": [
    "#deploy matching engine index on endpoint"
   ]
  },
  {
   "cell_type": "code",
   "execution_count": 59,
   "id": "7eb83a99-ef47-40ec-936d-d3c790c3ef57",
   "metadata": {},
   "outputs": [
    {
     "name": "stdout",
     "output_type": "stream",
     "text": [
      "deploying index to endpoint...\n",
      "deploying index to endpoint...\n",
      "deploying index to endpoint...\n",
      "deploying index to endpoint...\n",
      "deploying index to endpoint...\n",
      "deploying index to endpoint...\n",
      "deploying index to endpoint...\n",
      "deploying index to endpoint...\n",
      "deploying index to endpoint...\n",
      "deploying index to endpoint...\n",
      "deploying index to endpoint...\n",
      "index deployed...\n"
     ]
    }
   ],
   "source": [
    "index = index_resource_name\n",
    "index_endpoint = INDEX_ENDPOINT_NAME\n",
    "index_deployed = False\n",
    "\n",
    "for endpoint in endpoints:\n",
    "    if endpoint.display_name == endpoint_name:\n",
    "        if len(endpoint.deployed_indexes) > 0:\n",
    "            index_deployed = True\n",
    "            break\n",
    "    \n",
    "    \n",
    "if not index_deployed:\n",
    "    DEPLOYED_INDEX_ID = \"books_deployed\"\n",
    "    deploy_ann_index = {\n",
    "        \"id\" : DEPLOYED_INDEX_ID,\n",
    "        \"display_name\" : DEPLOYED_INDEX_ID,\n",
    "        \"index\" : index,\n",
    "    }\n",
    "    \n",
    "    r = index_endpoint_client.deploy_index(index_endpoint = index_endpoint, deployed_index = deploy_ann_index)\n",
    "    \n",
    "    while True:\n",
    "        if r.done():\n",
    "            break\n",
    "        time.sleep(120)\n",
    "        print(\"deploying index to endpoint...\")\n",
    "    \n",
    "    \n",
    "print(\"index deployed...\")"
   ]
  },
  {
   "cell_type": "markdown",
   "id": "a8482d54-e776-46ca-b777-2da558ac1e8b",
   "metadata": {},
   "source": [
    "Get query Embedding"
   ]
  },
  {
   "cell_type": "code",
   "execution_count": 64,
   "id": "ae334c13-1538-4def-9fc2-9152fa1aecb4",
   "metadata": {
    "tags": []
   },
   "outputs": [
    {
     "name": "stdout",
     "output_type": "stream",
     "text": [
      "[0.64109391, 0.645832956, 0.410251439, 1.0308249, 0.264123559, 0.421879381, 0.695008755, 0.321870267, 0.0, 0.361802727, 0.396711528, 0.384601206, 0.270285606, 0.535059631, 0.701950312, 0.327647716, 0.704599857, 0.745073855, 0.878816843, 0.281253278, 0.432675809, 1.10554576, 0.684552968, 0.550030887, 0.499848247, 0.293901414, 0.50178206, 0.0682981, 0.159686118, 0.859260321, 0.281290382, 0.744888186, 0.407783151, 0.208564728, 0.0, 0.365311742, 0.26200819, 0.598406613, 0.631515443, 0.760341763, 0.580571413, 0.66568, 0.0, 0.276215434, 0.882964671, 0.541433334, 0.61374265, 0.711462259, 0.840345383, 0.383537114, 0.361310244, 0.162519723, 0.0, 0.348087072, 0.950048685, 0.563564181, 0.630755544, 0.529509068, 0.472181201, 0.445267975, 0.599867702, 0.174079955, 0.725564241, 0.562317073]\n",
      "64\n"
     ]
    }
   ],
   "source": [
    "query_endpoint_id = \"7454131383925997568\"\n",
    "endpoint = aiplatform.Endpoint(endpoint_name=f\"projects/{PROJECT_ID}/locations/{REGION}/endpoints/{query_endpoint_id}\")\n",
    "\n",
    "input_data = {\n",
    "    \"instances\" : [\n",
    "        {\"input_1\" : \"98391\"}\n",
    "    ]\n",
    "}\n",
    "\n",
    "response = endpoint.predict(instances = input_data[\"instances\"])\n",
    "\n",
    "user_embedding = response.predictions[0]\n",
    "\n",
    "print(user_embedding)\n",
    "print(len(user_embedding))"
   ]
  },
  {
   "cell_type": "markdown",
   "id": "b369d1b7-7a5e-4a64-857d-668a10178a43",
   "metadata": {},
   "source": [
    "Get Book Recomendations"
   ]
  },
  {
   "cell_type": "code",
   "execution_count": 65,
   "id": "82cede9b-527a-4a3e-a1ec-faccf4e685c3",
   "metadata": {
    "tags": []
   },
   "outputs": [
    {
     "name": "stdout",
     "output_type": "stream",
     "text": [
      "nearest_neighbors {\n",
      "  neighbors {\n",
      "    datapoint {\n",
      "      datapoint_id: \"0966037103\"\n",
      "      crowding_tag {\n",
      "        crowding_attribute: \"0\"\n",
      "      }\n",
      "    }\n",
      "    distance: 41.51947784423828\n",
      "  }\n",
      "  neighbors {\n",
      "    datapoint {\n",
      "      datapoint_id: \"0778320820\"\n",
      "      crowding_tag {\n",
      "        crowding_attribute: \"0\"\n",
      "      }\n",
      "    }\n",
      "    distance: 41.32643508911133\n",
      "  }\n",
      "  neighbors {\n",
      "    datapoint {\n",
      "      datapoint_id: \"0525940979\"\n",
      "      crowding_tag {\n",
      "        crowding_attribute: \"0\"\n",
      "      }\n",
      "    }\n",
      "    distance: 40.98165512084961\n",
      "  }\n",
      "  neighbors {\n",
      "    datapoint {\n",
      "      datapoint_id: \"0758200374\"\n",
      "      crowding_tag {\n",
      "        crowding_attribute: \"0\"\n",
      "      }\n",
      "    }\n",
      "    distance: 40.95263671875\n",
      "  }\n",
      "  neighbors {\n",
      "    datapoint {\n",
      "      datapoint_id: \"1576737365\"\n",
      "      crowding_tag {\n",
      "        crowding_attribute: \"0\"\n",
      "      }\n",
      "    }\n",
      "    distance: 40.94483947753906\n",
      "  }\n",
      "  neighbors {\n",
      "    datapoint {\n",
      "      datapoint_id: \"0684871556\"\n",
      "      crowding_tag {\n",
      "        crowding_attribute: \"0\"\n",
      "      }\n",
      "    }\n",
      "    distance: 40.855281829833984\n",
      "  }\n",
      "  neighbors {\n",
      "    datapoint {\n",
      "      datapoint_id: \"1932100091\"\n",
      "      crowding_tag {\n",
      "        crowding_attribute: \"0\"\n",
      "      }\n",
      "    }\n",
      "    distance: 40.83350372314453\n",
      "  }\n",
      "  neighbors {\n",
      "    datapoint {\n",
      "      datapoint_id: \"076530080X\"\n",
      "      crowding_tag {\n",
      "        crowding_attribute: \"0\"\n",
      "      }\n",
      "    }\n",
      "    distance: 40.82416534423828\n",
      "  }\n",
      "  neighbors {\n",
      "    datapoint {\n",
      "      datapoint_id: \"0446609536\"\n",
      "      crowding_tag {\n",
      "        crowding_attribute: \"0\"\n",
      "      }\n",
      "    }\n",
      "    distance: 40.79975891113281\n",
      "  }\n",
      "  neighbors {\n",
      "    datapoint {\n",
      "      datapoint_id: \"0385335792\"\n",
      "      crowding_tag {\n",
      "        crowding_attribute: \"0\"\n",
      "      }\n",
      "    }\n",
      "    distance: 40.786354064941406\n",
      "  }\n",
      "}\n",
      "\n"
     ]
    }
   ],
   "source": [
    "from google.cloud import aiplatform_v1\n",
    "import grpc\n",
    "\n",
    "# Set variables for the current deployed index.\n",
    "INDEX_ENDPOINT = 'projects/738666983022/locations/us-central1/indexEndpoints/1890663020518965248'\n",
    "DEPLOYED_INDEX_ID = 'books_deployed'\n",
    "\n",
    "# Configure Vector Search client\n",
    "channel = grpc.insecure_channel(target='10.56.0.14:10000')\n",
    "transport = aiplatform_v1.services.match_service.transports.grpc.MatchServiceGrpcTransport(channel=channel)\n",
    "vector_search_client = aiplatform_v1.MatchServiceClient(transport=transport)\n",
    "\n",
    "# Build FindNeighborsRequest object\n",
    "datapoint = aiplatform_v1.IndexDatapoint(\n",
    "  feature_vector=user_embedding\n",
    ")\n",
    "\n",
    "query = aiplatform_v1.FindNeighborsRequest.Query(\n",
    "  datapoint=datapoint,\n",
    "\n",
    "  # The number of nearest neighbors to be retrieved\n",
    "  neighbor_count=10\n",
    ")\n",
    "request = aiplatform_v1.FindNeighborsRequest(\n",
    "  index_endpoint=INDEX_ENDPOINT,\n",
    "  deployed_index_id=DEPLOYED_INDEX_ID,\n",
    "  # Request can have multiple queries\n",
    "  queries=[query],\n",
    "  return_full_datapoint=False,\n",
    ")\n",
    "\n",
    "# Execute the request\n",
    "response = vector_search_client.find_neighbors(request)\n",
    "\n",
    "# Handle the response\n",
    "print(response)"
   ]
  },
  {
   "cell_type": "code",
   "execution_count": null,
   "id": "9b777c67-162c-4ab1-a0ae-ad03cddb72ff",
   "metadata": {},
   "outputs": [],
   "source": [
    "#From here you can get this datapoint_id which is ISBN numbers in pairs_2 db table and display it."
   ]
  }
 ],
 "metadata": {
  "environment": {
   "kernel": "conda-base-py",
   "name": "workbench-notebooks.m128",
   "type": "gcloud",
   "uri": "us-docker.pkg.dev/deeplearning-platform-release/gcr.io/workbench-notebooks:m128"
  },
  "kernelspec": {
   "display_name": "Python 3 (ipykernel) (Local)",
   "language": "python",
   "name": "conda-base-py"
  },
  "language_info": {
   "codemirror_mode": {
    "name": "ipython",
    "version": 3
   },
   "file_extension": ".py",
   "mimetype": "text/x-python",
   "name": "python",
   "nbconvert_exporter": "python",
   "pygments_lexer": "ipython3",
   "version": "3.10.16"
  }
 },
 "nbformat": 4,
 "nbformat_minor": 5
}
